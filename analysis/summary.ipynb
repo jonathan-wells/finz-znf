{
 "cells": [
  {
   "cell_type": "code",
   "execution_count": 2,
   "metadata": {},
   "outputs": [],
   "source": [
    "from Bio import SeqIO\n",
    "import pandas as pd\n",
    "from scipy import stats\n",
    "import seaborn as sns\n",
    "from matplotlib import pyplot as plt\n",
    "import numpy as np"
   ]
  },
  {
   "cell_type": "code",
   "execution_count": 4,
   "metadata": {},
   "outputs": [],
   "source": [
    "seqdict = {}\n",
    "for record in SeqIO.parse('../data/seqs/cypriniformes_augustus_finz.fa', 'fasta'):\n",
    "    seqdict[record.id] = str(record.seq)"
   ]
  },
  {
   "cell_type": "code",
   "execution_count": 5,
   "metadata": {},
   "outputs": [
    {
     "name": "stdout",
     "output_type": "stream",
     "text": [
      "                         name  length\n",
      "0  Anabarilius_grahami_g18.t1     282\n",
      "1  Anabarilius_grahami_g20.t1     282\n",
      "2  Anabarilius_grahami_g22.t1     281\n",
      "3  Anabarilius_grahami_g23.t1     288\n",
      "4  Anabarilius_grahami_g25.t1     282\n"
     ]
    }
   ],
   "source": [
    "seqlens = [(key, len(val)) for key, val in seqdict.items()]\n",
    "length_df = pd.DataFrame(seqlens, columns=['name', 'length'])\n",
    "print(length_df.head())"
   ]
  },
  {
   "cell_type": "code",
   "execution_count": 15,
   "metadata": {},
   "outputs": [
    {
     "data": {
      "image/png": "[encoded data removed]",
      "text/plain": [
       "<Figure size 720x360 with 1 Axes>"
      ]
     },
     "metadata": {
      "needs_background": "light"
     },
     "output_type": "display_data"
    }
   ],
   "source": [
    "fig, ax = plt.subplots(figsize=(10, 5))\n",
    "# ax.set_yscale('log')\n",
    "plt.hist(length_df.length, bins=len(set(length_df.length)))\n",
    "sns.despine()\n",
    "plt.show()"
   ]
  },
  {
   "cell_type": "code",
   "execution_count": null,
   "metadata": {},
   "outputs": [],
   "source": []
  }
 ],
 "metadata": {
  "kernelspec": {
   "display_name": "Python 3",
   "language": "python",
   "name": "python3"
  },
  "language_info": {
   "codemirror_mode": {
    "name": "ipython",
    "version": 3
   },
   "file_extension": ".py",
   "mimetype": "text/x-python",
   "name": "python",
   "nbconvert_exporter": "python",
   "pygments_lexer": "ipython3",
   "version": "3.7.7"
  }
 },
 "nbformat": 4,
 "nbformat_minor": 4
}
