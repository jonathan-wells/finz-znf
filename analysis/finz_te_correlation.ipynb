{
 "cells": [
  {
   "cell_type": "code",
   "execution_count": 8,
   "metadata": {},
   "outputs": [],
   "source": [
    "import os\n",
    "\n",
    "import pandas as pd\n",
    "import seaborn as sns\n",
    "from matplotlib import pyplot as plt\n",
    "from adjustText import adjust_text\n",
    "\n",
    "from Bio import SeqIO\n",
    "\n",
    "from scipy import stats\n",
    "import numpy as np\n",
    "from sklearn.linear_model import LinearRegression\n",
    "from sklearn.preprocessing import StandardScaler\n",
    "from sklearn.decomposition import PCA\n"
   ]
  },
  {
   "cell_type": "code",
   "execution_count": 9,
   "metadata": {},
   "outputs": [],
   "source": [
    "datadir = '../data/dnaPipeTE-out'\n",
    "dnapipete_data = {sp: f'{datadir}/{sp}/Counts.txt' for sp in os.listdir(datadir)}"
   ]
  },
  {
   "cell_type": "code",
   "execution_count": 10,
   "metadata": {},
   "outputs": [],
   "source": [
    "def read_counts(countfile):\n",
    "    count_df = pd.read_csv(countfile, sep='\\t', header=None, names=['teclass', 'readcount'])\n",
    "    return count_df\n",
    "\n",
    "def count_finz_znf(species):\n",
    "    count = 0\n",
    "    with open('../data/seqs/cypriniformes_augustus_finz.fa') as infile:\n",
    "        for line in infile:\n",
    "            if line.startswith(f'>{species}'):\n",
    "                count += 1\n",
    "    return count\n",
    "\n",
    "def count_finz_exons(species):\n",
    "    count = 0\n",
    "    with open(f'../data/blast-out/{species}_finz_locs.out') as infile:\n",
    "        for line in infile:\n",
    "            count += 1\n",
    "    return count"
   ]
  },
  {
   "cell_type": "code",
   "execution_count": 16,
   "metadata": {},
   "outputs": [
    {
     "name": "stdout",
     "output_type": "stream",
     "text": [
      "teclass                     species  finz_exons  finz_znf        DNA  \\\n",
      "0              Triplophysa_tibetana          35         0  11.535100   \n",
      "1            Triplophysa_siluroides          14         0  11.144761   \n",
      "2                Danionella_dracula          11         0   5.642604   \n",
      "3            Danionella_translucida          12         4   7.711250   \n",
      "4        Poropuntius_huangchuchieni         322         8   9.116787   \n",
      "\n",
      "teclass  Helitron      LINE       LTR  Low_Complexity      SINE  Satellite  \\\n",
      "0        0.353564  4.109580  4.397636        0.046156  0.414028   0.150996   \n",
      "1        0.165809  2.899348  4.312603        0.036850  0.296132   0.086445   \n",
      "2        0.563075  3.757688  4.499909        0.005209  0.621013   0.050368   \n",
      "3        1.695768  2.048340  2.897715        0.002425  0.048013   0.227442   \n",
      "4        0.203333  1.180123  1.830937        0.037739  0.166368   1.400176   \n",
      "\n",
      "teclass  Total   Unknown  interspersed  \n",
      "0        100.0  8.651206     29.461116  \n",
      "1        100.0  7.162924     25.981576  \n",
      "2        100.0  5.272346     20.356635  \n",
      "3        100.0  7.381324     21.782410  \n",
      "4        100.0  5.850739     18.348286  \n"
     ]
    }
   ],
   "source": [
    "count_dfs = []\n",
    "for sp, val in dnapipete_data.items():\n",
    "    count_df = read_counts(val)\n",
    "    count_df['species'] = sp\n",
    "    count_df['finz_znf'] = count_finz_znf(sp)\n",
    "    count_df['finz_exons'] = count_finz_exons(sp)\n",
    "    count_dfs.append(count_df)\n",
    "\n",
    "count_df = pd.concat(count_dfs)\n",
    "count_df = count_df.pivot_table(index=['species', 'finz_exons', 'finz_znf'], \n",
    "                                columns='teclass', \n",
    "                                values='readcount') \\\n",
    "    .sort_values('finz_znf') \\\n",
    "    .reset_index()\n",
    "count_df['Unknown'] = count_df.na + count_df.others\n",
    "count_df = count_df.drop(['Others', 'Tandem_repeats', 'na', 'others', 'rRNA', 'MITE', 'Simple_repeat'], axis=1)\n",
    "count_df['interspersed'] = count_df.DNA + count_df.LTR + count_df.LINE + count_df.SINE + count_df.Helitron + count_df.Unknown\n",
    "for teclass in ['DNA', 'Helitron', 'LINE', 'LTR', 'SINE', 'Low_Complexity', 'Satellite', 'Unknown', 'interspersed', 'Total']:\n",
    "    count_df[teclass] = count_df[teclass]/count_df['Total']*100 \n",
    "\n",
    "print(count_df.head())\n",
    "count_df.to_csv('../data/finz_te_counts.txt', sep='\\t', header=True, index=False)"
   ]
  },
  {
   "cell_type": "code",
   "execution_count": 18,
   "metadata": {},
   "outputs": [
    {
     "data": {
      "image/png": "[encoded data removed]",
      "text/plain": [
       "<Figure size 504x360 with 1 Axes>"
      ]
     },
     "metadata": {
      "needs_background": "light"
     },
     "output_type": "display_data"
    },
    {
     "name": "stdout",
     "output_type": "stream",
     "text": [
      "SpearmanrResult(correlation=0.7623862079453566, pvalue=1.536263649755955e-06)\n"
     ]
    }
   ],
   "source": [
    "column = 'interspersed'\n",
    "fig, ax = plt.subplots(figsize=(7, 5))\n",
    "sns.scatterplot(data=count_df, \n",
    "                x=column, \n",
    "                y='finz_znf',\n",
    "                hue='species',\n",
    "                palette='viridis_r',\n",
    "                edgecolor='k',\n",
    "                s=60,\n",
    "                ax=ax)\n",
    "ax.get_legend().remove()\n",
    "\n",
    "labels = []\n",
    "for row in count_df.iterrows():\n",
    "    label = row[1]['species'].split('_')[0][0] +'. '+ row[1]['species'].split('_')[1]\n",
    "    labels.append(ax.text(row[1][column], row[1]['finz_znf'], label, size=6, va='center', ha='center'))\n",
    "adjust_text(labels)\n",
    "\n",
    "sns.despine()\n",
    "plt.show()\n",
    "print(stats.spearmanr(count_df[column], \n",
    "                      count_df['finz_znf']))\n",
    "fig.savefig('../figs/finz_znf_corr.pdf', bbox_inches='tight')"
   ]
  },
  {
   "cell_type": "markdown",
   "metadata": {},
   "source": [
    "A possible explanation for some of the noise in the correlation is genome assembly quality. Since the finz-znfs are normally present on specific, highly repetitive chromosomes, it is possible that low numbers of predicted genes could be due to collapsing or fragmentation of these regions. To test this, we will look at the correlation between N50 and finz count."
   ]
  },
  {
   "cell_type": "code",
   "execution_count": 19,
   "metadata": {},
   "outputs": [
    {
     "name": "stdout",
     "output_type": "stream",
     "text": [
      "                        species      N50  finz_exons  finz_znf        DNA  \\\n",
      "0           Pimephales_promelas    60365         393        32  17.983488   \n",
      "1               Cyprinus_carpio  7653411         664       187  13.901122   \n",
      "2  Sinocyclocheilus_anshuiensis  1282074         536       211  14.814240   \n",
      "3  Sinocyclocheilus_rhinocerous   945578         535       188  14.103385   \n",
      "4      Sinocyclocheilus_grahami  1156011         641       184  15.798656   \n",
      "\n",
      "   Helitron      LINE       LTR  Low_Complexity      SINE  Satellite  Total  \\\n",
      "0  0.346771  1.834706  2.983876        0.044337  0.226264   1.198272  100.0   \n",
      "1  0.719657  4.009053  3.482556        0.053705  0.409140   1.808048  100.0   \n",
      "2  0.349348  2.304985  3.698811        0.056139  0.360871   2.071782  100.0   \n",
      "3  0.308016  2.142732  3.394562        0.032997  0.283832   2.070005  100.0   \n",
      "4  0.263180  2.629399  4.357701        0.039877  0.352033   1.939387  100.0   \n",
      "\n",
      "     Unknown  interspersed  \n",
      "0  12.860465     36.235571  \n",
      "1  10.120813     32.642342  \n",
      "2  10.085686     31.613941  \n",
      "3  10.516408     30.748935  \n",
      "4  11.368929     34.769897  \n"
     ]
    }
   ],
   "source": [
    "def calc_N50(genomefile):\n",
    "    contiglens = []\n",
    "    for record in SeqIO.parse(genomefile, 'fasta'):\n",
    "        contiglens.append(len(record.seq))\n",
    "    contiglens = sorted(contiglens, reverse=True)\n",
    "    gsize = sum(contiglens)\n",
    "    i, currentsize = 0, 0\n",
    "    while currentsize <= gsize*0.5:\n",
    "        currentsize += contiglens[i]\n",
    "        i += 1\n",
    "    return contiglens[i]\n",
    "\n",
    "with open('../data/species_genomes.txt') as infile:\n",
    "    genomes = {line.split()[0]: f'/Users/jonwells/Genomes/Cypriniformes/ncbi-genomes-2020-07-09/{line.split()[1]}' for line in infile}\n",
    "\n",
    "n50s = []\n",
    "for species, genomefile in genomes.items():\n",
    "    n50s.append((species, calc_N50(genomefile)))\n",
    "n50_df = pd.DataFrame(n50s, columns=['species', 'N50'])\n",
    "n50_df = n50_df.merge(count_df, on='species')\n",
    "print(n50_df.head())"
   ]
  },
  {
   "cell_type": "code",
   "execution_count": 7,
   "metadata": {},
   "outputs": [
    {
     "ename": "NameError",
     "evalue": "name 'n50_df' is not defined",
     "output_type": "error",
     "traceback": [
      "\u001b[0;31m---------------------------------------------------------------------------\u001b[0m",
      "\u001b[0;31mNameError\u001b[0m                                 Traceback (most recent call last)",
      "\u001b[0;32m<ipython-input-7-0635faa9ef5e>\u001b[0m in \u001b[0;36m<module>\u001b[0;34m\u001b[0m\n\u001b[1;32m      1\u001b[0m \u001b[0mfig\u001b[0m\u001b[0;34m,\u001b[0m \u001b[0max\u001b[0m \u001b[0;34m=\u001b[0m \u001b[0mplt\u001b[0m\u001b[0;34m.\u001b[0m\u001b[0msubplots\u001b[0m\u001b[0;34m(\u001b[0m\u001b[0mfigsize\u001b[0m\u001b[0;34m=\u001b[0m\u001b[0;34m(\u001b[0m\u001b[0;36m16\u001b[0m\u001b[0;34m,\u001b[0m \u001b[0;36m14\u001b[0m\u001b[0;34m)\u001b[0m\u001b[0;34m)\u001b[0m\u001b[0;34m\u001b[0m\u001b[0;34m\u001b[0m\u001b[0m\n\u001b[1;32m      2\u001b[0m \u001b[0;31m# sns.scatterplot(data=n50_df.loc[~n50_df.species.isin(['Danio_rerio', 'Danio_aesculapii', 'Danio_kyathit'])],\u001b[0m\u001b[0;34m\u001b[0m\u001b[0;34m\u001b[0m\u001b[0;34m\u001b[0m\u001b[0m\n\u001b[0;32m----> 3\u001b[0;31m sns.scatterplot(data=n50_df, \n\u001b[0m\u001b[1;32m      4\u001b[0m                 \u001b[0mx\u001b[0m\u001b[0;34m=\u001b[0m\u001b[0;34m'N50'\u001b[0m\u001b[0;34m,\u001b[0m\u001b[0;34m\u001b[0m\u001b[0;34m\u001b[0m\u001b[0m\n\u001b[1;32m      5\u001b[0m                 \u001b[0my\u001b[0m\u001b[0;34m=\u001b[0m\u001b[0;34m'finz'\u001b[0m\u001b[0;34m,\u001b[0m\u001b[0;34m\u001b[0m\u001b[0;34m\u001b[0m\u001b[0m\n",
      "\u001b[0;31mNameError\u001b[0m: name 'n50_df' is not defined"
     ]
    },
    {
     "data": {
      "image/png": "[encoded data removed]",
      "text/plain": [
       "<Figure size 1152x1008 with 1 Axes>"
      ]
     },
     "metadata": {
      "needs_background": "light"
     },
     "output_type": "display_data"
    }
   ],
   "source": [
    "fig, ax = plt.subplots(figsize=(16, 14))\n",
    "# sns.scatterplot(data=n50_df.loc[~n50_df.species.isin(['Danio_rerio', 'Danio_aesculapii', 'Danio_kyathit'])], \n",
    "sns.scatterplot(data=n50_df, \n",
    "                x='N50', \n",
    "                y='finz',\n",
    "                hue='species',\n",
    "                palette='viridis_r',\n",
    "                edgecolor='k',\n",
    "                s=120,\n",
    "                ax=ax)\n",
    "ax.get_legend().remove()\n",
    "labels = []\n",
    "for row in n50_df.iterrows():\n",
    "    label = row[1]['species'].split('_')[0][0] +'. '+ row[1]['species'].split('_')[1]\n",
    "    labels.append(ax.text(row[1]['N50'], row[1]['finz'], label, size=8, va='center', ha='center'))\n",
    "adjust_text(labels)\n",
    "\n",
    "sns.despine()\n",
    "plt.show()\n",
    "\n",
    "\n",
    "print(stats.spearmanr(n50_df.loc[~n50_df.species.isin(['Danio_rerio', 'Danio_aesculapii', 'Danio_kyathit'])].N50, n50_df.loc[~n50_df.species.isin(['Danio_rerio', 'Danio_aesculapii', 'Danio_kyathit'])].finz))\n",
    "print(stats.pearsonr(n50_df.loc[~n50_df.species.isin(['Danio_rerio', 'Danio_aesculapii', 'Danio_kyathit'])].N50, n50_df.loc[~n50_df.species.isin(['Danio_rerio', 'Danio_aesculapii', 'Danio_kyathit'])].finz))"
   ]
  },
  {
   "cell_type": "code",
   "execution_count": null,
   "metadata": {},
   "outputs": [],
   "source": [
    "print()"
   ]
  },
  {
   "cell_type": "code",
   "execution_count": null,
   "metadata": {},
   "outputs": [],
   "source": []
  }
 ],
 "metadata": {
  "kernelspec": {
   "display_name": "Python 3",
   "language": "python",
   "name": "python3"
  },
  "language_info": {
   "codemirror_mode": {
    "name": "ipython",
    "version": 3
   },
   "file_extension": ".py",
   "mimetype": "text/x-python",
   "name": "python",
   "nbconvert_exporter": "python",
   "pygments_lexer": "ipython3",
   "version": "3.7.7"
  }
 },
 "nbformat": 4,
 "nbformat_minor": 4
}
