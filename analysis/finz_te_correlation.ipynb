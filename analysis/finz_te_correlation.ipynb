{
 "cells": [
  {
   "cell_type": "code",
   "execution_count": 33,
   "metadata": {},
   "outputs": [],
   "source": [
    "import pandas as pd\n",
    "import seaborn as sns\n",
    "from matplotlib import pyplot as plt\n",
    "from scipy import stats\n",
    "import numpy as np"
   ]
  },
  {
   "cell_type": "code",
   "execution_count": 2,
   "metadata": {},
   "outputs": [],
   "source": [
    "datadir = '../data/repeatmasker-out'\n",
    "species_data = {'Danio_rerio': f'{datadir}/fDreABz2.toplevel_curated.20190410.fa.align.parseRM.all-repeats.tab',\n",
    "                'Danio_aesculapi': f'{datadir}/fDanAes4.curated_primary.20190724.fa.align.parseRM.all-repeats.tab',\n",
    "                'Danio_kyathit': f'{datadir}/fDanKya3.curated_primary.20190802.fa.align.parseRM.all-repeats.tab',\n",
    "                'Danio_choprai': f'{datadir}/fDanCho1.curated_primary.20190226.fa.align.parseRM.all-repeats.tab',\n",
    "                'Danio_tinwini': f'{datadir}/fDanTin1.curated_primary.20190226.fa.align.parseRM.all-repeats.tab',\n",
    "                'Danio_jaintianensis': f'{datadir}/fDanJai1.curated_primary.20190227.fa.align.parseRM.all-repeats.tab',\n",
    "                'Danio_albolineatus': f'{datadir}/fDanAlb1.curated_primary.20190208.fa.align.parseRM.all-repeats.tab',\n",
    "                'Danionella_dracula': f'{datadir}/fDanDra1.1.fa.align.parseRM.all-repeats.tab',\n",
    "                'Danionella_translucida': f'{datadir}/fDanTra1.curated_assembly.fa.align.parseRM.all-repeats.tab',\n",
    "               }"
   ]
  },
  {
   "cell_type": "code",
   "execution_count": 3,
   "metadata": {},
   "outputs": [],
   "source": [
    "def read_parserm(filename):\n",
    "    \"\"\"Return dataframe containing parsed RepeatMasker output.\"\"\"\n",
    "    parserm_df = pd.read_csv(filename, \n",
    "                             sep='\\t')\n",
    "    glen, nonrep = calc_genome_length(parserm_df)\n",
    "    parserm_df = parserm_df.append(pd.DataFrame({'Rclass': ['Genome'], 'LEN_MASKED_NR': [nonrep]}))\n",
    "    parserm_df = parserm_df.loc[parserm_df.Rclass.isin(['LTR', 'LINE', 'DNA', 'SINE', 'RC', 'Unknown', 'Genome'])]\n",
    "    return parserm_df\n",
    "\n",
    "def calc_genome_length(df):\n",
    "    \"\"\"This calculates the size of the genome and the number of unmasked bases.\"\"\"\n",
    "    glen = df['LEN_MASKED_NR'].sum()/(df['%_GENOME'].sum())\n",
    "    nonrep = glen - df['LEN_MASKED_NR'].sum()\n",
    "    return glen, nonrep\n",
    "\n",
    "def count_finz(species):\n",
    "    count = 0\n",
    "    with open('../data/seqs/cypriniformes_augustus_finz.fa') as infile:\n",
    "        for line in infile:\n",
    "            if line.startswith(f'>{species}'):\n",
    "                count += 1\n",
    "    return count"
   ]
  },
  {
   "cell_type": "code",
   "execution_count": 43,
   "metadata": {},
   "outputs": [
    {
     "name": "stdout",
     "output_type": "stream",
     "text": [
      "     Rclass  %_GENOME          species  finz\n",
      "0       DNA  0.350682      Danio_rerio   697\n",
      "1    Genome  0.000000      Danio_rerio   697\n",
      "2      LINE  0.028717      Danio_rerio   697\n",
      "3       LTR  0.050314      Danio_rerio   697\n",
      "4        RC  0.020211      Danio_rerio   697\n",
      "..      ...       ...              ...   ...\n",
      "7       LTR  0.043500  Cyprinus_carpio   140\n",
      "8      LINE  0.049000  Cyprinus_carpio   140\n",
      "9      SINE  0.004700  Cyprinus_carpio   140\n",
      "10       RC       NaN  Cyprinus_carpio   140\n",
      "11  Unknown       NaN  Cyprinus_carpio   140\n",
      "\n",
      "[75 rows x 4 columns]\n"
     ]
    }
   ],
   "source": [
    "finz_df = []\n",
    "for species, filename in species_data.items():\n",
    "    df = read_parserm(filename)\n",
    "    df = df.groupby('Rclass')[['%_GENOME']].sum().reset_index()\n",
    "    df['species'] = species\n",
    "    df['finz'] = count_finz(species)\n",
    "    finz_df.append(df)\n",
    "\n",
    "\n",
    "# Manually add species\n",
    "finz_df.append(pd.DataFrame([\n",
    " ['DNA', 0.1638, 'Carassius_auratus', count_finz('Carassius_auratus')],\n",
    " ['LTR', 0.0489, 'Carassius_auratus', count_finz('Carassius_auratus')],\n",
    " ['LINE', 0.045, 'Carassius_auratus', count_finz('Carassius_auratus')],\n",
    " ['SINE', 0.0047, 'Carassius_auratus', count_finz('Carassius_auratus')],\n",
    " ['RC', 0.0189, 'Carassius_auratus', count_finz('Carassius_auratus')],\n",
    " ['Unknown', 0.0688, 'Carassius_auratus', count_finz('Carassius_auratus')],\n",
    " ['DNA', 0.1753, 'Cyprinus_carpio', count_finz('Cyprinus_carpio')],\n",
    " ['LTR', 0.0435, 'Cyprinus_carpio', count_finz('Cyprinus_carpio')],\n",
    " ['LINE', 0.049, 'Cyprinus_carpio', count_finz('Cyprinus_carpio')],\n",
    " ['SINE', 0.0047, 'Cyprinus_carpio', count_finz('Cyprinus_carpio')],\n",
    " ['RC', np.nan, 'Cyprinus_carpio', count_finz('Cyprinus_carpio')],\n",
    " ['Unknown', np.nan, 'Cyprinus_carpio', count_finz('Cyprinus_carpio')]\n",
    "], columns=['Rclass', '%_GENOME', 'species', 'finz']))\n",
    "\n",
    "finz_df = pd.concat(finz_df)\n",
    "print(finz_df)"
   ]
  },
  {
   "cell_type": "code",
   "execution_count": 77,
   "metadata": {},
   "outputs": [
    {
     "data": {
      "image/png": "[encoded data removed]",
      "text/plain": [
       "<Figure size 720x504 with 1 Axes>"
      ]
     },
     "metadata": {
      "needs_background": "light"
     },
     "output_type": "display_data"
    },
    {
     "name": "stdout",
     "output_type": "stream",
     "text": [
      "SpearmanrResult(correlation=0.8090909090909091, pvalue=0.002558580199713915)\n"
     ]
    }
   ],
   "source": [
    "teclass = 'DNA'\n",
    "\n",
    "fig, ax = plt.subplots(figsize=(10, 7))\n",
    "sns.scatterplot(data=finz_df.loc[finz_df.Rclass == teclass], \n",
    "                x='%_GENOME', \n",
    "                y='finz',\n",
    "                s=60,\n",
    "                ax=ax)\n",
    "\n",
    "for row in finz_df.loc[finz_df.Rclass == teclass].iterrows():\n",
    "    ax.text(row[1]['%_GENOME']+0.005, row[1]['finz']+np.random.randint(-20, 20), row[1]['species'])\n",
    "\n",
    "sns.despine()\n",
    "plt.show()\n",
    "print(stats.spearmanr(finz_df.loc[finz_df.Rclass == teclass, '%_GENOME'], \n",
    "                      finz_df.loc[finz_df.Rclass == teclass, 'finz']))"
   ]
  },
  {
   "cell_type": "code",
   "execution_count": null,
   "metadata": {},
   "outputs": [],
   "source": []
  },
  {
   "cell_type": "code",
   "execution_count": null,
   "metadata": {},
   "outputs": [],
   "source": []
  }
 ],
 "metadata": {
  "kernelspec": {
   "display_name": "Python 3",
   "language": "python",
   "name": "python3"
  },
  "language_info": {
   "codemirror_mode": {
    "name": "ipython",
    "version": 3
   },
   "file_extension": ".py",
   "mimetype": "text/x-python",
   "name": "python",
   "nbconvert_exporter": "python",
   "pygments_lexer": "ipython3",
   "version": "3.7.7"
  }
 },
 "nbformat": 4,
 "nbformat_minor": 4
}
