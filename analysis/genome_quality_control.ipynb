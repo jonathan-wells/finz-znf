{
 "cells": [
  {
   "cell_type": "code",
   "execution_count": 3,
   "id": "mathematical-tucson",
   "metadata": {},
   "outputs": [],
   "source": [
    "import os\n",
    "import re\n",
    "from Bio import SeqIO\n",
    "import pandas as pd\n",
    "from matplotlib import pyplot as plt\n",
    "import seaborn as sns\n",
    "from scipy import stats\n",
    "from collections import defaultdict"
   ]
  },
  {
   "cell_type": "code",
   "execution_count": 4,
   "id": "herbal-radar",
   "metadata": {},
   "outputs": [],
   "source": [
    "def calc_N50(genomefile):\n",
    "    contiglens = []\n",
    "    for record in SeqIO.parse(genomefile, 'fasta'):\n",
    "        contiglens.append(len(record.seq))\n",
    "    contiglens = sorted(contiglens, reverse=True)\n",
    "    gsize = sum(contiglens)\n",
    "    i, currentsize = 0, 0\n",
    "    while currentsize <= gsize*0.5:\n",
    "        currentsize += contiglens[i]\n",
    "        i += 1\n",
    "    return contiglens[i]\n",
    "\n",
    "def calc_busco(buscofile, value):\n",
    "    buscopat = '\\s+C:([\\d\\.]+)%\\[S:([\\d\\.]+)%,D:([\\d\\.]+)%\\],F:([\\d\\.]+)%,M:([\\d\\.]+)%,n:(\\d+)'\n",
    "    with open(buscofile) as infile:\n",
    "        for line in infile:\n",
    "            hit = re.search(buscopat, line)\n",
    "            if hit:\n",
    "                vals = [float(i) for i in hit.groups()]\n",
    "                busco = dict(zip(('complete', \n",
    "                                  'singleton', \n",
    "                                  'duplicate', \n",
    "                                  'failed', \n",
    "                                  'missing', \n",
    "                                  'n'), \n",
    "                                 vals))\n",
    "                break\n",
    "    return busco[value]\n",
    "                "
   ]
  },
  {
   "cell_type": "code",
   "execution_count": 5,
   "id": "cloudy-shield",
   "metadata": {},
   "outputs": [],
   "source": [
    "with open('../data/species_genomes.txt') as infile:\n",
    "    genomes = {line.split()[0]: f'/Users/jonwells/Genomes/Cypriniformes/ncbi-genomes-2020-07-09/{line.split()[1]}' for line in infile}\n",
    "\n",
    "n50s = []\n",
    "for species, genomefile in genomes.items():\n",
    "    n50s.append((species, calc_N50(genomefile)))\n",
    "n50_df = pd.DataFrame(n50s, columns=['species', 'N50'])"
   ]
  },
  {
   "cell_type": "code",
   "execution_count": 6,
   "id": "sporting-bikini",
   "metadata": {},
   "outputs": [],
   "source": [
    "buscos = []\n",
    "for species in genomes.keys():\n",
    "    for file in os.listdir(f'../data/busco-out/{species}'):\n",
    "        buscofile = f'../data/busco-out/{species}/{file}'\n",
    "        buscos.append((species, \n",
    "                       calc_busco(buscofile, 'complete')))\n",
    "busco_df = pd.DataFrame(buscos, columns=['species', 'busco_complete'])"
   ]
  },
  {
   "cell_type": "code",
   "execution_count": 7,
   "id": "about-arena",
   "metadata": {},
   "outputs": [
    {
     "name": "stdout",
     "output_type": "stream",
     "text": [
      "    index                       species       N50  busco_complete\n",
      "0      13                  Labeo_gonius      3580            26.0\n",
      "1      10         Cirrhinus_molitorella      4199            34.8\n",
      "2      14    Poropuntius_huangchuchieni      2931            36.9\n",
      "3       1           Pimephales_promelas     60365            71.8\n",
      "4      30                 Danio_choprai   5574156            72.7\n",
      "5      23            Leuciscus_waleckii  21776898            74.0\n",
      "6      24       Paedocypris_carbunculus     59221            77.7\n",
      "7      28            Danio_albolineatus   4543946            78.4\n",
      "8      25     Paedocypris_micromegethes     61829            79.9\n",
      "9      33                 Danio_tinwini  13167244            81.1\n",
      "10      2               Cyprinus_carpio   7653411            82.0\n",
      "11     15    Hypophthalmichthys_nobilis     83001            83.6\n",
      "12     29           Danio_jaintianensis  17381796            86.6\n",
      "13     16   Hypophthalmichthys_molitrix    314070            86.9\n",
      "14     26            Danionella_dracula   9915436            89.9\n",
      "15     27        Danionella_translucida   5368897            90.9\n",
      "16      6      Sinocyclocheilus_grahami   1156011            93.3\n",
      "17     11                  Labeo_rohita   1954488            94.9\n",
      "18      3       Ctenopharyngodon_idella   6014843            95.2\n",
      "19     19           Triplophysa_dalaica  23332616            95.2\n",
      "20     31              Danio_aesculapii  55069896            95.3\n",
      "21     17        Triplophysa_siluroides   2829549            95.5\n",
      "22     34                   Danio_rerio  53461100            95.9\n",
      "23     12                   Labeo_catla    717879            95.9\n",
      "24      8      Oxygymnocypris_stewartii    256525            96.0\n",
      "25     32                 Danio_kyathit  63723151            96.0\n",
      "26     18          Triplophysa_tibetana  24589443            96.6\n",
      "27      5  Sinocyclocheilus_rhinocerous    945578            96.8\n",
      "28     20               Culter_alburnus   3638236            96.9\n",
      "29     21      Megalobrama_amblycephala   1401728            97.0\n",
      "30      9           Anabarilius_grahami   4449300            97.1\n",
      "31      0                 Chanos_chanos  49187548            97.2\n",
      "32     22        Onychostoma_macrolepis  33965053            97.4\n",
      "33      4  Sinocyclocheilus_anshuiensis   1282074            97.9\n",
      "34      7             Carassius_auratus  21934901            98.2\n"
     ]
    }
   ],
   "source": [
    "qc_df = pd.merge(n50_df, busco_df, on='species')\n",
    "print(qc_df.sort_values('busco_complete').reset_index())"
   ]
  },
  {
   "cell_type": "code",
   "execution_count": 11,
   "id": "dated-trailer",
   "metadata": {},
   "outputs": [
    {
     "name": "stdout",
     "output_type": "stream",
     "text": [
      "['Chanos_chanos', 'Pimephales_promelas', 'Cyprinus_carpio', 'Ctenopharyngodon_idella', 'Sinocyclocheilus_anshuiensis', 'Sinocyclocheilus_rhinocerous', 'Sinocyclocheilus_grahami', 'Carassius_auratus', 'Oxygymnocypris_stewartii', 'Anabarilius_grahami', 'Labeo_rohita', 'Labeo_catla', 'Hypophthalmichthys_nobilis', 'Hypophthalmichthys_molitrix', 'Triplophysa_siluroides', 'Triplophysa_tibetana', 'Triplophysa_dalaica', 'Culter_alburnus', 'Megalobrama_amblycephala', 'Onychostoma_macrolepis', 'Leuciscus_waleckii', 'Paedocypris_carbunculus', 'Paedocypris_micromegethes', 'Danionella_dracula', 'Danionella_translucida', 'Danio_albolineatus', 'Danio_jaintianensis', 'Danio_choprai', 'Danio_aesculapii', 'Danio_kyathit', 'Danio_tinwini', 'Danio_rerio']\n"
     ]
    },
    {
     "data": {
      "text/plain": [
       "[]"
      ]
     },
     "execution_count": 11,
     "metadata": {},
     "output_type": "execute_result"
    },
    {
     "data": {
      "image/png": "[encoded data removed]",
      "text/plain": [
       "<Figure size 1008x720 with 1 Axes>"
      ]
     },
     "metadata": {
      "needs_background": "light"
     },
     "output_type": "display_data"
    }
   ],
   "source": [
    "with open('../data/hiqual_species.txt', 'w') as outfile:\n",
    "    spec = list(qc_df.loc[(qc_df.N50 > 1e05) | (qc_df.busco_complete > 70), 'species'])\n",
    "    print(spec)\n",
    "    outfile.write('\\n'.join(spec))\n",
    "fig, ax = plt.subplots(figsize=(14, 10))\n",
    "sns.scatterplot(data=qc_df, x='busco_complete', y='N50')\n",
    "ax.set_yscale('log')\n",
    "ax.axvline(x=70)\n",
    "ax.axhline(y=1e05)\n",
    "plt.plot()"
   ]
  },
  {
   "cell_type": "code",
   "execution_count": 80,
   "id": "certain-nitrogen",
   "metadata": {},
   "outputs": [
    {
     "name": "stdout",
     "output_type": "stream",
     "text": [
      "              species                             gene  busco  depth\n",
      "0  Danio_albolineatus  Danio_albolineatus_100028at7898   True   16.0\n",
      "1  Danio_albolineatus  Danio_albolineatus_100034at7898   True   14.0\n",
      "2  Danio_albolineatus  Danio_albolineatus_100316at7898   True   16.0\n",
      "3  Danio_albolineatus  Danio_albolineatus_100418at7898   True   13.0\n",
      "4  Danio_albolineatus  Danio_albolineatus_100571at7898   True   15.0\n"
     ]
    }
   ],
   "source": [
    "coverage_df = pd.DataFrame(columns=['gene', 'position', 'depth', 'busco', 'species'])\n",
    "for species in ['Danio_choprai', 'Danio_jaintianensis', 'Danio_albolineatus', 'Danio_tinwini']:\n",
    "    df = pd.read_csv(f'../data/danio-reads/{species}_depth75.out', \n",
    "                     sep='\\t', \n",
    "                     header=None, \n",
    "                     names=['gene', 'position', 'depth'])\n",
    "    df['busco'] = False\n",
    "    df.loc[df.gene.str.contains('\\d+at\\d+'), 'busco'] = True\n",
    "    df['species'] = species\n",
    "    coverage_df = pd.concat([coverage_df, df])\n",
    "coverage_df['depth'] = coverage_df.depth.apply(pd.to_numeric)\n",
    "genecov_df = coverage_df.groupby(['species', 'gene', 'busco']).median().reset_index()\n",
    "print(genecov_df.head())"
   ]
  },
  {
   "cell_type": "code",
   "execution_count": 81,
   "id": "private-drinking",
   "metadata": {},
   "outputs": [],
   "source": [
    "genecov_df['norm'] = 0\n",
    "for species in ['Danio_choprai', 'Danio_jaintianensis', 'Danio_albolineatus', 'Danio_tinwini']:\n",
    "    genecov_df.loc[genecov_df.species == species, 'norm'] = genecov_df.loc[genecov_df.species == species, 'depth'] - genecov_df.loc[genecov_df.species == species, 'depth'].mean()\n",
    " \n"
   ]
  },
  {
   "cell_type": "code",
   "execution_count": 82,
   "id": "green-briefing",
   "metadata": {},
   "outputs": [
    {
     "data": {
      "image/png": "[encoded data removed]",
      "text/plain": [
       "<Figure size 432x288 with 1 Axes>"
      ]
     },
     "metadata": {
      "needs_background": "light"
     },
     "output_type": "display_data"
    },
    {
     "name": "stdout",
     "output_type": "stream",
     "text": [
      "                            depth                                            \\\n",
      "                            count       mean         std   min   25%    50%   \n",
      "species             busco                                                     \n",
      "Danio_albolineatus  False   340.0  71.289706   61.758658   9.0  29.0  53.50   \n",
      "                    True   1857.0  16.443188    3.084545   6.0  15.0  16.00   \n",
      "Danio_choprai       False    70.0  15.142857    5.893464   4.0  12.0  14.00   \n",
      "                    True   1858.0  13.531755    2.653386   4.0  12.0  13.25   \n",
      "Danio_jaintianensis False    93.0  24.978495   18.257803  14.0  18.0  22.00   \n",
      "                    True   1858.0  18.732777    3.375094   5.0  17.0  19.00   \n",
      "Danio_tinwini       False   118.0  60.250000  109.654737   6.0  15.0  18.00   \n",
      "                    True   1858.0  14.689989    3.174340   4.0  13.0  15.00   \n",
      "\n",
      "                                          norm                         \\\n",
      "                            75%    max   count       mean         std   \n",
      "species             busco                                               \n",
      "Danio_albolineatus  False  96.0  494.0   340.0  46.358664   61.758658   \n",
      "                    True   18.0   52.0  1857.0  -8.487854    3.084545   \n",
      "Danio_choprai       False  17.0   34.0    70.0   1.552608    5.893464   \n",
      "                    True   15.0   29.0  1858.0  -0.058494    2.653386   \n",
      "Danio_jaintianensis False  26.0  178.0    93.0   5.947997   18.257803   \n",
      "                    True   21.0   55.0  1858.0  -0.297720    3.375094   \n",
      "Danio_tinwini       False  30.0  584.0   118.0  42.839322  109.654737   \n",
      "                    True   16.0   80.0  1858.0  -2.720689    3.174340   \n",
      "\n",
      "                                                                      \\\n",
      "                                 min       25%        50%        75%   \n",
      "species             busco                                              \n",
      "Danio_albolineatus  False -15.931042  4.068958  28.568958  71.068958   \n",
      "                    True  -18.931042 -9.931042  -8.931042  -6.931042   \n",
      "Danio_choprai       False  -9.590249 -1.590249   0.409751   3.409751   \n",
      "                    True   -9.590249 -1.590249  -0.340249   1.409751   \n",
      "Danio_jaintianensis False  -5.030497 -1.030497   2.969503   6.969503   \n",
      "                    True  -14.030497 -2.030497  -0.030497   1.969503   \n",
      "Danio_tinwini       False -11.410678 -2.410678   0.589322  12.589322   \n",
      "                    True  -13.410678 -4.410678  -2.410678  -1.410678   \n",
      "\n",
      "                                       \n",
      "                                  max  \n",
      "species             busco              \n",
      "Danio_albolineatus  False  469.068958  \n",
      "                    True    27.068958  \n",
      "Danio_choprai       False   20.409751  \n",
      "                    True    15.409751  \n",
      "Danio_jaintianensis False  158.969503  \n",
      "                    True    35.969503  \n",
      "Danio_tinwini       False  566.589322  \n",
      "                    True    62.589322  \n"
     ]
    }
   ],
   "source": [
    "fig, ax = plt.subplots()\n",
    "sns.boxplot(data=genecov_df, x='species', y='depth', hue='busco')\n",
    "ax.set_yscale('log')\n",
    "plt.show()\n",
    "print(genecov_df.groupby(['species', 'busco']).describe())"
   ]
  },
  {
   "cell_type": "code",
   "execution_count": 183,
   "id": "finite-sheep",
   "metadata": {},
   "outputs": [
    {
     "name": "stdout",
     "output_type": "stream",
     "text": [
      "  gene  exons    source\n",
      "0   g9      2  newannot\n",
      "1  g10      2  newannot\n",
      "2  g12      3  newannot\n",
      "3  g13      4  newannot\n",
      "4  g19      2  newannot\n"
     ]
    }
   ],
   "source": [
    "gff_files = {'newannot': '../data/gffs/Danio_rerio_augustus_finz_only.gff',\n",
    "             'ensembl': '../data/gffs/ensembl_finz_znf.gff',\n",
    "             'refseq': '../data/gffs/refseq_finz_znf.gff'}\n",
    "\n",
    "gffs = {}\n",
    "\n",
    "for source, filename in gff_files.items():\n",
    "    gffs[source] = defaultdict(int)\n",
    "    if source == 'newannot':\n",
    "        id_pattern = re.compile('ID=(\\w+)')\n",
    "    elif source == 'ensembl':\n",
    "        id_pattern = re.compile('gene_id=(.+)?;')\n",
    "    elif source == 'refseq':\n",
    "        id_pattern = re.compile('gene=(.+)?;')\n",
    "    \n",
    "    with open(filename) as infile:\n",
    "        for line in infile:\n",
    "            if line.startswith('#'):\n",
    "                continue\n",
    "            line = line.split()\n",
    "            if line[2] == 'gene':\n",
    "                gid = re.search(id_pattern, line[-1]).group(1)\n",
    "            elif line[2] == 'CDS':\n",
    "                gffs[source][gid] += 1\n",
    "\n",
    "\n",
    "exon_df = pd.DataFrame(columns=['gene', 'exons', 'source'], dtype=int)\n",
    "for source, exons in gffs.items():\n",
    "    exon_df = pd.concat([exon_df, pd.DataFrame([(key, val, source) for key, val in exons.items()], columns=['gene', 'exons', 'source'])])\n",
    "print(exon_df.head())"
   ]
  },
  {
   "cell_type": "code",
   "execution_count": 1,
   "id": "laughing-toddler",
   "metadata": {},
   "outputs": [
    {
     "ename": "NameError",
     "evalue": "name 'plt' is not defined",
     "output_type": "error",
     "traceback": [
      "\u001b[0;31m---------------------------------------------------------------------------\u001b[0m",
      "\u001b[0;31mNameError\u001b[0m                                 Traceback (most recent call last)",
      "\u001b[0;32m<ipython-input-1-caaac37302d3>\u001b[0m in \u001b[0;36m<module>\u001b[0;34m\u001b[0m\n\u001b[0;32m----> 1\u001b[0;31m \u001b[0mfig\u001b[0m\u001b[0;34m,\u001b[0m \u001b[0max\u001b[0m \u001b[0;34m=\u001b[0m \u001b[0mplt\u001b[0m\u001b[0;34m.\u001b[0m\u001b[0msubplots\u001b[0m\u001b[0;34m(\u001b[0m\u001b[0mfigsize\u001b[0m\u001b[0;34m=\u001b[0m\u001b[0;34m(\u001b[0m\u001b[0;36m12\u001b[0m\u001b[0;34m,\u001b[0m \u001b[0;36m7\u001b[0m\u001b[0;34m)\u001b[0m\u001b[0;34m)\u001b[0m\u001b[0;34m\u001b[0m\u001b[0;34m\u001b[0m\u001b[0m\n\u001b[0m\u001b[1;32m      2\u001b[0m \u001b[0msns\u001b[0m\u001b[0;34m.\u001b[0m\u001b[0mhistplot\u001b[0m\u001b[0;34m(\u001b[0m\u001b[0mdata\u001b[0m\u001b[0;34m=\u001b[0m\u001b[0mexon_df\u001b[0m\u001b[0;34m,\u001b[0m \u001b[0mx\u001b[0m\u001b[0;34m=\u001b[0m\u001b[0;34m'exons'\u001b[0m\u001b[0;34m,\u001b[0m \u001b[0mhue\u001b[0m\u001b[0;34m=\u001b[0m\u001b[0;34m'source'\u001b[0m\u001b[0;34m,\u001b[0m \u001b[0mmultiple\u001b[0m\u001b[0;34m=\u001b[0m\u001b[0;34m'dodge'\u001b[0m\u001b[0;34m,\u001b[0m \u001b[0mdiscrete\u001b[0m\u001b[0;34m=\u001b[0m\u001b[0;32mTrue\u001b[0m\u001b[0;34m,\u001b[0m \u001b[0mshrink\u001b[0m\u001b[0;34m=\u001b[0m\u001b[0;36m0.9\u001b[0m\u001b[0;34m)\u001b[0m\u001b[0;34m\u001b[0m\u001b[0;34m\u001b[0m\u001b[0m\n\u001b[1;32m      3\u001b[0m \u001b[0;31m# sns.kdeplot(data=exon_df, x='exons', hue='source', bw=0.1)\u001b[0m\u001b[0;34m\u001b[0m\u001b[0;34m\u001b[0m\u001b[0;34m\u001b[0m\u001b[0m\n\u001b[1;32m      4\u001b[0m \u001b[0max\u001b[0m\u001b[0;34m.\u001b[0m\u001b[0mset_xticks\u001b[0m\u001b[0;34m(\u001b[0m\u001b[0;34m[\u001b[0m\u001b[0mi\u001b[0m \u001b[0;32mfor\u001b[0m \u001b[0mi\u001b[0m \u001b[0;32min\u001b[0m \u001b[0mrange\u001b[0m\u001b[0;34m(\u001b[0m\u001b[0;36m1\u001b[0m\u001b[0;34m,\u001b[0m \u001b[0;36m20\u001b[0m\u001b[0;34m)\u001b[0m\u001b[0;34m]\u001b[0m\u001b[0;34m)\u001b[0m\u001b[0;34m\u001b[0m\u001b[0;34m\u001b[0m\u001b[0m\n\u001b[1;32m      5\u001b[0m \u001b[0max\u001b[0m\u001b[0;34m.\u001b[0m\u001b[0mset_xlim\u001b[0m\u001b[0;34m(\u001b[0m\u001b[0;36m0.5\u001b[0m\u001b[0;34m,\u001b[0m \u001b[0;36m20\u001b[0m\u001b[0;34m)\u001b[0m\u001b[0;34m\u001b[0m\u001b[0;34m\u001b[0m\u001b[0m\n",
      "\u001b[0;31mNameError\u001b[0m: name 'plt' is not defined"
     ]
    }
   ],
   "source": [
    "fig, ax = plt.subplots(figsize=(12, 7))\n",
    "sns.histplot(data=exon_df, x='exons', hue='source', multiple='dodge', discrete=True, shrink=0.9)\n",
    "# sns.kdeplot(data=exon_df, x='exons', hue='source', bw=0.1)\n",
    "ax.set_xticks([i for i in range(1, 20)])\n",
    "ax.set_xlim(0.5, 20)\n",
    "ax.set_xlabel('Number of coding exons')\n",
    "ax.set_ylabel('Frequency')\n",
    "sns.despine()\n",
    "plt.show()"
   ]
  },
  {
   "cell_type": "code",
   "execution_count": null,
   "id": "israeli-flexibility",
   "metadata": {},
   "outputs": [],
   "source": []
  }
 ],
 "metadata": {
  "kernelspec": {
   "display_name": "Python 3",
   "language": "python",
   "name": "python3"
  },
  "language_info": {
   "codemirror_mode": {
    "name": "ipython",
    "version": 3
   },
   "file_extension": ".py",
   "mimetype": "text/x-python",
   "name": "python",
   "nbconvert_exporter": "python",
   "pygments_lexer": "ipython3",
   "version": "3.7.7"
  }
 },
 "nbformat": 4,
 "nbformat_minor": 5
}
