{
 "cells": [
  {
   "cell_type": "code",
   "execution_count": 51,
   "id": "quantitative-increase",
   "metadata": {},
   "outputs": [],
   "source": [
    "import os\n",
    "import re\n",
    "from Bio import SeqIO\n",
    "import pandas as pd\n",
    "from matplotlib import pyplot as plt\n",
    "import seaborn as sns"
   ]
  },
  {
   "cell_type": "code",
   "execution_count": 61,
   "id": "virtual-subscriber",
   "metadata": {},
   "outputs": [],
   "source": [
    "def calc_N50(genomefile):\n",
    "    contiglens = []\n",
    "    for record in SeqIO.parse(genomefile, 'fasta'):\n",
    "        contiglens.append(len(record.seq))\n",
    "    contiglens = sorted(contiglens, reverse=True)\n",
    "    gsize = sum(contiglens)\n",
    "    i, currentsize = 0, 0\n",
    "    while currentsize <= gsize*0.5:\n",
    "        currentsize += contiglens[i]\n",
    "        i += 1\n",
    "    return contiglens[i]\n",
    "\n",
    "def calc_busco(buscofile, value):\n",
    "    buscopat = '\\s+C:([\\d\\.]+)%\\[S:([\\d\\.]+)%,D:([\\d\\.]+)%\\],F:([\\d\\.]+)%,M:([\\d\\.]+)%,n:(\\d+)'\n",
    "    with open(buscofile) as infile:\n",
    "        for line in infile:\n",
    "            hit = re.search(buscopat, line)\n",
    "            if hit:\n",
    "                vals = [float(i) for i in hit.groups()]\n",
    "                busco = dict(zip(('complete', \n",
    "                                  'singleton', \n",
    "                                  'duplicate', \n",
    "                                  'failed', \n",
    "                                  'missing', \n",
    "                                  'n'), \n",
    "                                 vals))\n",
    "                break\n",
    "    return busco[value]\n",
    "                "
   ]
  },
  {
   "cell_type": "code",
   "execution_count": 62,
   "id": "close-sauce",
   "metadata": {},
   "outputs": [],
   "source": [
    "buscos = []\n",
    "for species in genomes.keys():\n",
    "    for file in os.listdir(f'../data/busco-out/{species}'):\n",
    "        buscofile = f'../data/busco-out/{species}/{file}'\n",
    "        buscos.append((species, \n",
    "                       calc_busco(buscofile, 'complete')))\n",
    "busco_df = pd.DataFrame(buscos, columns=['species', 'busco_complete'])"
   ]
  },
  {
   "cell_type": "code",
   "execution_count": null,
   "id": "convenient-facility",
   "metadata": {},
   "outputs": [],
   "source": [
    "with open('../data/species_genomes.txt') as infile:\n",
    "    genomes = {line.split()[0]: f'/Users/jonwells/Genomes/Cypriniformes/ncbi-genomes-2020-07-09/{line.split()[1]}' for line in infile}\n",
    "\n",
    "n50s = []\n",
    "for species, genomefile in genomes.items():\n",
    "    n50s.append((species, calc_N50(genomefile)))\n",
    "n50_df = pd.DataFrame(n50s, columns=['species', 'N50'])"
   ]
  },
  {
   "cell_type": "code",
   "execution_count": 63,
   "id": "metropolitan-honduras",
   "metadata": {},
   "outputs": [
    {
     "name": "stdout",
     "output_type": "stream",
     "text": [
      "                         species       N50  busco_complete\n",
      "13                  Labeo_gonius      3580            26.0\n",
      "10         Cirrhinus_molitorella      4199            34.8\n",
      "14    Poropuntius_huangchuchieni      2931            36.9\n",
      "1            Pimephales_promelas     60365            71.8\n",
      "30                 Danio_choprai   5574156            72.7\n",
      "23            Leuciscus_waleckii  21776898            74.0\n",
      "24       Paedocypris_carbunculus     59221            77.7\n",
      "28            Danio_albolineatus   4543946            78.4\n",
      "25     Paedocypris_micromegethes     61829            79.9\n",
      "33                 Danio_tinwini  13167244            81.1\n",
      "2                Cyprinus_carpio   7653411            82.0\n",
      "15    Hypophthalmichthys_nobilis     83001            83.6\n",
      "29           Danio_jaintianensis  17381796            86.6\n",
      "16   Hypophthalmichthys_molitrix    314070            86.9\n",
      "26            Danionella_dracula   9915436            89.9\n",
      "27        Danionella_translucida   5368897            90.9\n",
      "6       Sinocyclocheilus_grahami   1156011            93.3\n",
      "11                  Labeo_rohita   1954488            94.9\n",
      "3        Ctenopharyngodon_idella   6014843            95.2\n",
      "19           Triplophysa_dalaica  23332616            95.2\n",
      "31              Danio_aesculapii  55069896            95.3\n",
      "17        Triplophysa_siluroides   2829549            95.5\n",
      "34                   Danio_rerio  53461100            95.9\n",
      "12                   Labeo_catla    717879            95.9\n",
      "8       Oxygymnocypris_stewartii    256525            96.0\n",
      "32                 Danio_kyathit  63723151            96.0\n",
      "18          Triplophysa_tibetana  24589443            96.6\n",
      "5   Sinocyclocheilus_rhinocerous    945578            96.8\n",
      "20               Culter_alburnus   3638236            96.9\n",
      "21      Megalobrama_amblycephala   1401728            97.0\n",
      "9            Anabarilius_grahami   4449300            97.1\n",
      "0                  Chanos_chanos  49187548            97.2\n",
      "22        Onychostoma_macrolepis  33965053            97.4\n",
      "4   Sinocyclocheilus_anshuiensis   1282074            97.9\n",
      "7              Carassius_auratus  21934901            98.2\n"
     ]
    }
   ],
   "source": [
    "qc_df = pd.merge(n50_df, busco_df, on='species')\n",
    "print(qc_df.sort_values('busco_complete'))"
   ]
  },
  {
   "cell_type": "code",
   "execution_count": 81,
   "id": "independent-packaging",
   "metadata": {},
   "outputs": [
    {
     "name": "stdout",
     "output_type": "stream",
     "text": [
      "1            Pimephales_promelas\n",
      "10         Cirrhinus_molitorella\n",
      "13                  Labeo_gonius\n",
      "14    Poropuntius_huangchuchieni\n",
      "15    Hypophthalmichthys_nobilis\n",
      "24       Paedocypris_carbunculus\n",
      "25     Paedocypris_micromegethes\n",
      "Name: species, dtype: object\n"
     ]
    },
    {
     "data": {
      "text/plain": [
       "[]"
      ]
     },
     "execution_count": 81,
     "metadata": {},
     "output_type": "execute_result"
    },
    {
     "data": {
      "image/png": "[encoded data removed]",
      "text/plain": [
       "<Figure size 1008x720 with 1 Axes>"
      ]
     },
     "metadata": {
      "needs_background": "light"
     },
     "output_type": "display_data"
    }
   ],
   "source": [
    "print(qc_df.loc[(qc_df.N50 < 1e05) | (qc_df.busco_complete < 70)].species)\n",
    "fig, ax = plt.subplots(figsize=(14, 10))\n",
    "sns.scatterplot(data=qc_df, x='busco_complete', y='N50')\n",
    "ax.set_yscale('log')\n",
    "ax.axvline(x=70)\n",
    "ax.axhline(y=1e05)\n",
    "plt.plot()"
   ]
  },
  {
   "cell_type": "code",
   "execution_count": 80,
   "id": "expected-strike",
   "metadata": {},
   "outputs": [
    {
     "name": "stdout",
     "output_type": "stream",
     "text": [
      "0.08293970287785085\n",
      "273.7010194969078\n"
     ]
    }
   ],
   "source": [
    "p = 1\n",
    "for i in qc_df.loc[(qc_df.N50 > 1e05) & (qc_df.busco_complete > 70) ,'busco_complete']:\n",
    "    p *= i/100\n",
    "print(p)\n",
    "print(p*3300)"
   ]
  },
  {
   "cell_type": "code",
   "execution_count": null,
   "id": "sustained-genome",
   "metadata": {},
   "outputs": [],
   "source": []
  }
 ],
 "metadata": {
  "kernelspec": {
   "display_name": "Python 3",
   "language": "python",
   "name": "python3"
  },
  "language_info": {
   "codemirror_mode": {
    "name": "ipython",
    "version": 3
   },
   "file_extension": ".py",
   "mimetype": "text/x-python",
   "name": "python",
   "nbconvert_exporter": "python",
   "pygments_lexer": "ipython3",
   "version": "3.7.7"
  }
 },
 "nbformat": 4,
 "nbformat_minor": 5
}
